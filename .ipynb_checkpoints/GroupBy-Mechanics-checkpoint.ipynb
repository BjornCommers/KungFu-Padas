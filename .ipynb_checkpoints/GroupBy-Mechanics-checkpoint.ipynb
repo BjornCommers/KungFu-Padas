{
 "metadata": {
  "name": "",
  "signature": "sha256:ca40b3ed18c3c6e5f32af3aadb938c3b5239c5a7e203403414ae8334982d4261"
 },
 "nbformat": 3,
 "nbformat_minor": 0,
 "worksheets": [
  {
   "cells": [
    {
     "cell_type": "heading",
     "level": 2,
     "metadata": {},
     "source": [
      "1. SPLIT // \n",
      "2. APPLY // \n",
      "3. COMBINE //"
     ]
    },
    {
     "cell_type": "markdown",
     "metadata": {},
     "source": [
      "![split-apply-combine](http://inundata.org/R_talks/meetup/images/splitapply.png)"
     ]
    },
    {
     "cell_type": "code",
     "collapsed": false,
     "input": [
      "import pandas as pd\n",
      "df = pd.read_csv(\"data/sac.csv\")\n",
      "df.groupby(df['Key']).sum()"
     ],
     "language": "python",
     "metadata": {},
     "outputs": [
      {
       "html": [
        "<div style=\"max-height:1000px;max-width:1500px;overflow:auto;\">\n",
        "<table border=\"1\" class=\"dataframe\">\n",
        "  <thead>\n",
        "    <tr style=\"text-align: right;\">\n",
        "      <th></th>\n",
        "      <th>Value</th>\n",
        "    </tr>\n",
        "    <tr>\n",
        "      <th>Key</th>\n",
        "      <th></th>\n",
        "    </tr>\n",
        "  </thead>\n",
        "  <tbody>\n",
        "    <tr>\n",
        "      <th>Gio</th>\n",
        "      <td> 47</td>\n",
        "    </tr>\n",
        "    <tr>\n",
        "      <th>Jon</th>\n",
        "      <td> 13</td>\n",
        "    </tr>\n",
        "    <tr>\n",
        "      <th>Zack</th>\n",
        "      <td> 34</td>\n",
        "    </tr>\n",
        "  </tbody>\n",
        "</table>\n",
        "<p>3 rows \u00d7 1 columns</p>\n",
        "</div>"
       ],
       "metadata": {},
       "output_type": "pyout",
       "prompt_number": 45,
       "text": [
        "      Value\n",
        "Key        \n",
        "Gio      47\n",
        "Jon      13\n",
        "Zack     34\n",
        "\n",
        "[3 rows x 1 columns]"
       ]
      }
     ],
     "prompt_number": 45
    },
    {
     "cell_type": "code",
     "collapsed": false,
     "input": [
      "# GROUPBY STEP #1:  SPLIT\n",
      "# First decide how you want to split your data up by\n",
      "# You can also think of it as like, how you want the groups to be formed\n",
      "# in this case, lets use the Key column which is the names\n",
      "\n",
      "\n",
      "# GROUPBY STEP #2:  APPLY\n",
      "# Now that you have split up your data into different groups,\n",
      "# What do you want to do with the data in that group...?\n"
     ],
     "language": "python",
     "metadata": {},
     "outputs": [],
     "prompt_number": 17
    },
    {
     "cell_type": "code",
     "collapsed": false,
     "input": [
      "### THIS RETURNS A GROUPBY OBJECT\n",
      "df['Value'].groupby(df['Key'])"
     ],
     "language": "python",
     "metadata": {},
     "outputs": [
      {
       "metadata": {},
       "output_type": "pyout",
       "prompt_number": 18,
       "text": [
        "<pandas.core.groupby.SeriesGroupBy object at 0x1067bdb10>"
       ]
      }
     ],
     "prompt_number": 18
    },
    {
     "cell_type": "code",
     "collapsed": false,
     "input": [
      "df['Value'].groupby(df['Key']).sum()\n"
     ],
     "language": "python",
     "metadata": {},
     "outputs": [
      {
       "metadata": {},
       "output_type": "pyout",
       "prompt_number": 19,
       "text": [
        "Key\n",
        "Gio     47\n",
        "Jon     13\n",
        "Zack    34\n",
        "dtype: int64"
       ]
      }
     ],
     "prompt_number": 19
    },
    {
     "cell_type": "raw",
     "metadata": {},
     "source": [
      "df[THE DATA].groupby(df[KEY COLUMN]).AGGREGATE-FUNCTION()"
     ]
    },
    {
     "cell_type": "code",
     "collapsed": false,
     "input": [
      "df2"
     ],
     "language": "python",
     "metadata": {},
     "outputs": [
      {
       "html": [
        "<div style=\"max-height:1000px;max-width:1500px;overflow:auto;\">\n",
        "<table border=\"1\" class=\"dataframe\">\n",
        "  <thead>\n",
        "    <tr style=\"text-align: right;\">\n",
        "      <th></th>\n",
        "      <th>Key</th>\n",
        "      <th>Miles</th>\n",
        "      <th>Day</th>\n",
        "      <th>Ice-Creams</th>\n",
        "    </tr>\n",
        "  </thead>\n",
        "  <tbody>\n",
        "    <tr>\n",
        "      <th>0 </th>\n",
        "      <td> Zack</td>\n",
        "      <td> 10</td>\n",
        "      <td>  Mon</td>\n",
        "      <td> 3</td>\n",
        "    </tr>\n",
        "    <tr>\n",
        "      <th>1 </th>\n",
        "      <td>  Gio</td>\n",
        "      <td>  4</td>\n",
        "      <td>  Mon</td>\n",
        "      <td> 2</td>\n",
        "    </tr>\n",
        "    <tr>\n",
        "      <th>2 </th>\n",
        "      <td>  Jon</td>\n",
        "      <td>  2</td>\n",
        "      <td>  Mon</td>\n",
        "      <td> 1</td>\n",
        "    </tr>\n",
        "    <tr>\n",
        "      <th>3 </th>\n",
        "      <td> Zack</td>\n",
        "      <td> 12</td>\n",
        "      <td> Tues</td>\n",
        "      <td> 0</td>\n",
        "    </tr>\n",
        "    <tr>\n",
        "      <th>4 </th>\n",
        "      <td>  Gio</td>\n",
        "      <td>  5</td>\n",
        "      <td> Tues</td>\n",
        "      <td> 1</td>\n",
        "    </tr>\n",
        "    <tr>\n",
        "      <th>5 </th>\n",
        "      <td>  Jon</td>\n",
        "      <td>  2</td>\n",
        "      <td> Tues</td>\n",
        "      <td> 4</td>\n",
        "    </tr>\n",
        "    <tr>\n",
        "      <th>6 </th>\n",
        "      <td> Zack</td>\n",
        "      <td> 11</td>\n",
        "      <td>  Wed</td>\n",
        "      <td> 6</td>\n",
        "    </tr>\n",
        "    <tr>\n",
        "      <th>7 </th>\n",
        "      <td>  Gio</td>\n",
        "      <td> 27</td>\n",
        "      <td>  Wed</td>\n",
        "      <td> 2</td>\n",
        "    </tr>\n",
        "    <tr>\n",
        "      <th>8 </th>\n",
        "      <td>  Jon</td>\n",
        "      <td>  5</td>\n",
        "      <td>  Wed</td>\n",
        "      <td> 4</td>\n",
        "    </tr>\n",
        "    <tr>\n",
        "      <th>9 </th>\n",
        "      <td> Zack</td>\n",
        "      <td>  1</td>\n",
        "      <td>  Thr</td>\n",
        "      <td> 6</td>\n",
        "    </tr>\n",
        "    <tr>\n",
        "      <th>10</th>\n",
        "      <td>  Gio</td>\n",
        "      <td> 11</td>\n",
        "      <td>  Thr</td>\n",
        "      <td> 8</td>\n",
        "    </tr>\n",
        "    <tr>\n",
        "      <th>11</th>\n",
        "      <td>  Jon</td>\n",
        "      <td>  4</td>\n",
        "      <td>  Thr</td>\n",
        "      <td> 1</td>\n",
        "    </tr>\n",
        "  </tbody>\n",
        "</table>\n",
        "<p>12 rows \u00d7 4 columns</p>\n",
        "</div>"
       ],
       "metadata": {},
       "output_type": "pyout",
       "prompt_number": 49,
       "text": [
        "     Key  Miles   Day  Ice-Creams\n",
        "0   Zack     10   Mon           3\n",
        "1    Gio      4   Mon           2\n",
        "2    Jon      2   Mon           1\n",
        "3   Zack     12  Tues           0\n",
        "4    Gio      5  Tues           1\n",
        "5    Jon      2  Tues           4\n",
        "6   Zack     11   Wed           6\n",
        "7    Gio     27   Wed           2\n",
        "8    Jon      5   Wed           4\n",
        "9   Zack      1   Thr           6\n",
        "10   Gio     11   Thr           8\n",
        "11   Jon      4   Thr           1\n",
        "\n",
        "[12 rows x 4 columns]"
       ]
      }
     ],
     "prompt_number": 49
    },
    {
     "cell_type": "code",
     "collapsed": false,
     "input": [
      "df2 = pd.read_csv(\"data/sac-p2.csv\")\n",
      "df2[\"Day\"].groupby(df[\"Key\"]).count()\n",
      "\n",
      "# # df2['Day'].groupby(df2['Key']).sum()\n",
      "# df2.groupby(df2[\"Key\"])\n",
      "# mi = df2['Miles'].groupby(df2[\"Key\"]).mean()\n",
      "# print mi\n",
      "# ic = df2['Ice-Creams'].groupby(df2[\"Key\"]).sum()\n",
      "# print ic\n",
      "# pd.DataFrame([mi,ic])"
     ],
     "language": "python",
     "metadata": {},
     "outputs": [
      {
       "metadata": {},
       "output_type": "pyout",
       "prompt_number": 53,
       "text": [
        "Key\n",
        "Gio     4\n",
        "Jon     4\n",
        "Zack    4\n",
        "dtype: int64"
       ]
      }
     ],
     "prompt_number": 53
    },
    {
     "cell_type": "code",
     "collapsed": false,
     "input": [
      "df3 = pd.read_csv(\"data/sac-p2.csv\")\n",
      "mi = df3[\"Miles\"].groupby(df[\"Key\"]).mean()\n",
      "mi\n",
      "ic = df3[\"Ice-Creams\"].groupby(df3[\"Key\"]).sum()\n",
      "newdf = pd.DataFrame([mi,ic])\n",
      "newdf = newdf.T\n",
      "newdf.columns = [\"Cool\", \"Awesome\"]\n",
      "diffdf = pd.concat([mi,ic], axis=1)\n",
      "diffdf"
     ],
     "language": "python",
     "metadata": {},
     "outputs": [
      {
       "html": [
        "<div style=\"max-height:1000px;max-width:1500px;overflow:auto;\">\n",
        "<table border=\"1\" class=\"dataframe\">\n",
        "  <thead>\n",
        "    <tr style=\"text-align: right;\">\n",
        "      <th></th>\n",
        "      <th>0</th>\n",
        "      <th>1</th>\n",
        "    </tr>\n",
        "    <tr>\n",
        "      <th>Key</th>\n",
        "      <th></th>\n",
        "      <th></th>\n",
        "    </tr>\n",
        "  </thead>\n",
        "  <tbody>\n",
        "    <tr>\n",
        "      <th>Gio</th>\n",
        "      <td> 11.75</td>\n",
        "      <td> 13</td>\n",
        "    </tr>\n",
        "    <tr>\n",
        "      <th>Jon</th>\n",
        "      <td>  3.25</td>\n",
        "      <td> 10</td>\n",
        "    </tr>\n",
        "    <tr>\n",
        "      <th>Zack</th>\n",
        "      <td>  8.50</td>\n",
        "      <td> 15</td>\n",
        "    </tr>\n",
        "  </tbody>\n",
        "</table>\n",
        "<p>3 rows \u00d7 2 columns</p>\n",
        "</div>"
       ],
       "metadata": {},
       "output_type": "pyout",
       "prompt_number": 71,
       "text": [
        "          0   1\n",
        "Key            \n",
        "Gio   11.75  13\n",
        "Jon    3.25  10\n",
        "Zack   8.50  15\n",
        "\n",
        "[3 rows x 2 columns]"
       ]
      }
     ],
     "prompt_number": 71
    },
    {
     "cell_type": "code",
     "collapsed": false,
     "input": [
      "df4 = pd.read_csv(\"data/sac-p2.csv\")\n",
      "df = pd.read_csv(\"data/sac-p2.csv\")\n",
      "df\n",
      "#  doubleCountIn = tempdf[ (tempdf.LoserLap == \"Double Text\") & (tempdf.party == each) & (tempdf.direction == \"Incoming\")].groupby(['direction'])['timeSinceLast'].count()\n",
      "newdf = df4[(df4[\"Key\"] == \"Zack\") | (df4[\"Day\"] == \"Monday\")]\n",
      "smalldf = df[[\"Miles\", \"Day\"]]\n",
      "smalldf"
     ],
     "language": "python",
     "metadata": {},
     "outputs": [
      {
       "html": [
        "<div style=\"max-height:1000px;max-width:1500px;overflow:auto;\">\n",
        "<table border=\"1\" class=\"dataframe\">\n",
        "  <thead>\n",
        "    <tr style=\"text-align: right;\">\n",
        "      <th></th>\n",
        "      <th>Miles</th>\n",
        "      <th>Day</th>\n",
        "    </tr>\n",
        "  </thead>\n",
        "  <tbody>\n",
        "    <tr>\n",
        "      <th>0 </th>\n",
        "      <td> 10</td>\n",
        "      <td> Mon</td>\n",
        "    </tr>\n",
        "    <tr>\n",
        "      <th>1 </th>\n",
        "      <td>  4</td>\n",
        "      <td> Mon</td>\n",
        "    </tr>\n",
        "    <tr>\n",
        "      <th>2 </th>\n",
        "      <td>  2</td>\n",
        "      <td> Mon</td>\n",
        "    </tr>\n",
        "    <tr>\n",
        "      <th>3 </th>\n",
        "      <td> 12</td>\n",
        "      <td> Mon</td>\n",
        "    </tr>\n",
        "    <tr>\n",
        "      <th>4 </th>\n",
        "      <td>  5</td>\n",
        "      <td> Mon</td>\n",
        "    </tr>\n",
        "    <tr>\n",
        "      <th>5 </th>\n",
        "      <td>  2</td>\n",
        "      <td> Mon</td>\n",
        "    </tr>\n",
        "    <tr>\n",
        "      <th>6 </th>\n",
        "      <td> 11</td>\n",
        "      <td> Wed</td>\n",
        "    </tr>\n",
        "    <tr>\n",
        "      <th>7 </th>\n",
        "      <td> 27</td>\n",
        "      <td> Wed</td>\n",
        "    </tr>\n",
        "    <tr>\n",
        "      <th>8 </th>\n",
        "      <td>  5</td>\n",
        "      <td> Wed</td>\n",
        "    </tr>\n",
        "    <tr>\n",
        "      <th>9 </th>\n",
        "      <td>  1</td>\n",
        "      <td> Thr</td>\n",
        "    </tr>\n",
        "    <tr>\n",
        "      <th>10</th>\n",
        "      <td> 11</td>\n",
        "      <td> Thr</td>\n",
        "    </tr>\n",
        "    <tr>\n",
        "      <th>11</th>\n",
        "      <td>  4</td>\n",
        "      <td> Thr</td>\n",
        "    </tr>\n",
        "  </tbody>\n",
        "</table>\n",
        "<p>12 rows \u00d7 2 columns</p>\n",
        "</div>"
       ],
       "metadata": {},
       "output_type": "pyout",
       "prompt_number": 94,
       "text": [
        "    Miles  Day\n",
        "0      10  Mon\n",
        "1       4  Mon\n",
        "2       2  Mon\n",
        "3      12  Mon\n",
        "4       5  Mon\n",
        "5       2  Mon\n",
        "6      11  Wed\n",
        "7      27  Wed\n",
        "8       5  Wed\n",
        "9       1  Thr\n",
        "10     11  Thr\n",
        "11      4  Thr\n",
        "\n",
        "[12 rows x 2 columns]"
       ]
      }
     ],
     "prompt_number": 94
    }
   ],
   "metadata": {}
  }
 ]
}