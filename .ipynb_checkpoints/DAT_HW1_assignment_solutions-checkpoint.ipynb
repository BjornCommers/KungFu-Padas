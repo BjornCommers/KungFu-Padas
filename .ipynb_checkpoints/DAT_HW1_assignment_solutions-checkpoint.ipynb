{
 "metadata": {
  "name": "",
  "signature": "sha256:b7120b73c101047d799fe9bbb46923dfd542bb93e7ae35b1064cd8095fca58e0"
 },
 "nbformat": 3,
 "nbformat_minor": 0,
 "worksheets": [
  {
   "cells": [
    {
     "cell_type": "markdown",
     "metadata": {},
     "source": [
      "#\u2000HOMEWORK QUESTIONS\n",
      "### Please answer the following questions about your data exploration in the iPython notebook. Feel free to explore further.\n",
      "\n",
      "1. How many passengers are in our passenger list? From here forward, we\u2019ll assume our dataset represents the full passenger list for the Titanic.\n",
      "\n",
      "2. What is the overall survival rate?\n",
      "3. How many male passengers were onboard?\n",
      "4. How many female passengers were onboard?\n",
      "5. What is the overall survival rate of male passengers?\n",
      "6. What is the overall survival rate of female passengers?\n",
      "7. What is the average age of all passengers onboard?\n",
      "    * How did you calculate this average age?\n",
      "    * Did you encounter any problems with this calculation?\n",
      "    * If so, how did you address any problems?\n",
      "8. What is the average age of passengers who survived?\n",
      "9. What is the average age of passengers who did not survive?\n",
      "10. At this (early) point in our analysis, what might you infer about any patterns you are seeing?\n",
      "11. How many passengers are in each of the three classes of service (e.g. First, Second, Third?)\n",
      "12. What is the survival rate for passengers in each of the three classes of service?\n",
      "13. Continuing with 10, what else might you conclude?\n",
      "14. Last, if we were to build a predictive model, which features in the data do you think we should include in the model and which can we leave out? Why?"
     ]
    },
    {
     "cell_type": "code",
     "collapsed": false,
     "input": [],
     "language": "python",
     "metadata": {},
     "outputs": [],
     "prompt_number": 41
    },
    {
     "cell_type": "code",
     "collapsed": false,
     "input": [
      "# 1: How many passengers are in our passenger list? From here forward, we\u2019ll assume our dataset represents the full passenger list for the Titanic.\n",
      "import pandas as pd\n",
      "\n",
      "df = pd.read_csv('sprint-data/titanic.csv')\n",
      "answer_one = df['name'].count() "
     ],
     "language": "python",
     "metadata": {},
     "outputs": [],
     "prompt_number": 7
    },
    {
     "cell_type": "code",
     "collapsed": false,
     "input": [
      "# 2: What is the overall survival rate?\n",
      "\n",
      "df = pd.read_csv('sprint-data/titanic.csv')\n",
      "totalz = df['survived'].count()\n",
      "counts = df['survived'].value_counts()\n",
      "totalz = float(totalz)\n",
      "survived = counts[1]\n",
      "survived = float(survived)\n",
      "answer_two = survived / totalz\n"
     ],
     "language": "python",
     "metadata": {},
     "outputs": [],
     "prompt_number": 21
    },
    {
     "cell_type": "code",
     "collapsed": false,
     "input": [
      "# 3: How many male passengers were onboard?\n",
      "# 4: How many female passengers were onboard?\n",
      "\n",
      "sex_counts = df['sex'].value_counts().astype(float)\n",
      "total_males = sex_counts['male']\n",
      "total_females = sex_counts['female']"
     ],
     "language": "python",
     "metadata": {},
     "outputs": [],
     "prompt_number": 42
    },
    {
     "cell_type": "code",
     "collapsed": false,
     "input": [
      "# 5: What is the overall survival rate of male passengers?\n",
      "# 6: What is the overall survival rate of female passengers?\n",
      "grouped = df.groupby('survived')['sex'].value_counts().astype(float)\n",
      "\n",
      "male_deaths = grouped[0]['male']\n",
      "female_deaths = grouped[0]['female']\n",
      "\n",
      "male_survived = grouped[1]['male']\n",
      "female_survived = grouped[1]['female']\n",
      "\n",
      "answer_five = male_survived / total_males\n",
      "answer_six = female_survived / total_females\n",
      "answer_five, answer_six"
     ],
     "language": "python",
     "metadata": {},
     "outputs": [
      {
       "metadata": {},
       "output_type": "pyout",
       "prompt_number": 46,
       "text": [
        "(0.18890814558058924, 0.7420382165605095)"
       ]
      }
     ],
     "prompt_number": 46
    },
    {
     "cell_type": "code",
     "collapsed": false,
     "input": [
      "# 7:  What is the average age of all passengers onboard?\n",
      "#     7a: How did you calculate this average age?\n",
      "#     7b: Did you encounter any problems with this calculation?\n",
      "#     7c: If so, how did you address any problems?"
     ],
     "language": "python",
     "metadata": {},
     "outputs": [],
     "prompt_number": 26
    },
    {
     "cell_type": "code",
     "collapsed": false,
     "input": [
      "print df.age.mean()\n",
      "print df.age.median()"
     ],
     "language": "python",
     "metadata": {},
     "outputs": [
      {
       "output_type": "stream",
       "stream": "stdout",
       "text": [
        "29.6991176471\n",
        "28.0\n"
       ]
      }
     ],
     "prompt_number": 53
    },
    {
     "cell_type": "code",
     "collapsed": false,
     "input": [],
     "language": "python",
     "metadata": {},
     "outputs": []
    }
   ],
   "metadata": {}
  }
 ]
}