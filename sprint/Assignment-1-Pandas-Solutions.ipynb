{
 "metadata": {
  "name": "",
  "signature": "sha256:407cfdf339dbc2e0791b01f0c8d40182d8199c9ff5e614c9c6cdcb4da6b1d862"
 },
 "nbformat": 3,
 "nbformat_minor": 0,
 "worksheets": [
  {
   "cells": [
    {
     "cell_type": "code",
     "collapsed": false,
     "input": [
      "# 1:  Start pandas and import the 'Titanic.csv' data file.\n",
      "import pandas as pd\n",
      "df = pd.read_csv('sprint-data/Titanic.csv')\n",
      "print df.columns.tolist()"
     ],
     "language": "python",
     "metadata": {},
     "outputs": [
      {
       "output_type": "stream",
       "stream": "stdout",
       "text": [
        "['survived', 'pclass', 'name', 'sex', 'age', 'sibsp', 'parch', 'ticket', 'fare', 'cabin', 'embarked']\n"
       ]
      }
     ],
     "prompt_number": 11
    },
    {
     "cell_type": "code",
     "collapsed": false,
     "input": [
      "# 2: Rename the columns \n",
      "df.columns = ['Survived', 'Class', 'Name', 'Sex', 'Age', 'SibSp', 'ParCh', 'TicketId', 'Fare', 'Cabin', 'Embarked']"
     ],
     "language": "python",
     "metadata": {},
     "outputs": [],
     "prompt_number": 12
    },
    {
     "cell_type": "code",
     "collapsed": false,
     "input": [
      "# 3: Tell me how many people survived, and how many died?\n",
      "df.Survived.value_counts()"
     ],
     "language": "python",
     "metadata": {},
     "outputs": [
      {
       "metadata": {},
       "output_type": "pyout",
       "prompt_number": 16,
       "text": [
        "0    549\n",
        "1    342\n",
        "dtype: int64"
       ]
      }
     ],
     "prompt_number": 16
    },
    {
     "cell_type": "code",
     "collapsed": false,
     "input": [
      "# 4: Of thoes who survived, how many were male and how many were female?\n",
      "\n",
      "df.groupby('Survived')['Sex'].value_counts()"
     ],
     "language": "python",
     "metadata": {},
     "outputs": [
      {
       "metadata": {},
       "output_type": "pyout",
       "prompt_number": 19,
       "text": [
        "Survived        \n",
        "0         male      468\n",
        "          female     81\n",
        "1         female    233\n",
        "          male      109\n",
        "dtype: int64"
       ]
      }
     ],
     "prompt_number": 19
    },
    {
     "cell_type": "code",
     "collapsed": false,
     "input": [
      "# 5:  Pandas thinks the \"Class\" col is a number, but it should actually be a string.  So, covert the \"Class\" col to a string.\n",
      "df.Class = df.Class.astype(str)"
     ],
     "language": "python",
     "metadata": {},
     "outputs": [],
     "prompt_number": 26
    },
    {
     "cell_type": "code",
     "collapsed": false,
     "input": [],
     "language": "python",
     "metadata": {},
     "outputs": []
    }
   ],
   "metadata": {}
  }
 ]
}