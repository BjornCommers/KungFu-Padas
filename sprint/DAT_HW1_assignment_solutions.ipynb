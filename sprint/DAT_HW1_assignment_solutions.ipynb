{
 "metadata": {
  "name": "",
  "signature": "sha256:db75aeb09adc28f95897a3b5eb65b8b58f443278f16d6d151e13eef201c2225f"
 },
 "nbformat": 3,
 "nbformat_minor": 0,
 "worksheets": [
  {
   "cells": [
    {
     "cell_type": "markdown",
     "metadata": {},
     "source": [
      "#\u2000HOMEWORK QUESTIONS\n",
      "### Please answer the following questions about your data exploration in the iPython notebook. Feel free to explore further.\n",
      "\n",
      "1. How many passengers are in our passenger list? From here forward, we\u2019ll assume our dataset represents the full passenger list for the Titanic.\n",
      "\n",
      "2. What is the overall survival rate?\n",
      "3. How many male passengers were onboard?\n",
      "4. How many female passengers were onboard?\n",
      "5. What is the overall survival rate of male passengers?\n",
      "6. What is the overall survival rate of female passengers?\n",
      "7. What is the average age of all passengers onboard?\n",
      "    * How did you calculate this average age?\n",
      "    * Did you encounter any problems with this calculation?\n",
      "    * If so, how did you address any problems?\n",
      "8. What is the average age of passengers who survived?\n",
      "9. What is the average age of passengers who did not survive?\n",
      "10. At this (early) point in our analysis, what might you infer about any patterns you are seeing?\n",
      "11. How many passengers are in each of the three classes of service (e.g. First, Second, Third?)\n",
      "12. What is the survival rate for passengers in each of the three classes of service?\n",
      "13. Continuing with 10, what else might you conclude?\n",
      "14. Last, if we were to build a predictive model, which features in the data do you think we should include in the model and which can we leave out? Why?"
     ]
    },
    {
     "cell_type": "code",
     "collapsed": false,
     "input": [
      "# 1:  Start pandas and import the 'Titanic.csv' data file.\n",
      "import pandas as pd\n",
      "df = pd.read_csv('../lecture/lecture-data/Titanic.csv')\n"
     ],
     "language": "python",
     "metadata": {},
     "outputs": [],
     "prompt_number": 1
    },
    {
     "cell_type": "code",
     "collapsed": false,
     "input": [
      "# 2: Rename the columns \n",
      "df.columns = ['Survived', 'Class', 'Name', 'Sex', 'Age', 'SibSp', 'ParCh', 'TicketId', 'Fare', 'Cabin', 'Embarked']"
     ],
     "language": "python",
     "metadata": {},
     "outputs": [],
     "prompt_number": 4
    },
    {
     "cell_type": "code",
     "collapsed": false,
     "input": [
      "# 3: Tell me how many people survived, and how many died?\n",
      "df.Survived.value_counts()"
     ],
     "language": "python",
     "metadata": {},
     "outputs": [
      {
       "metadata": {},
       "output_type": "pyout",
       "prompt_number": 5,
       "text": [
        "0    549\n",
        "1    342\n",
        "dtype: int64"
       ]
      }
     ],
     "prompt_number": 5
    },
    {
     "cell_type": "code",
     "collapsed": false,
     "input": [
      "# 4: Of thoes who survived, how many were male and how many were female?\n",
      "df.groupby('Survived')['Sex'].value_counts()"
     ],
     "language": "python",
     "metadata": {},
     "outputs": [
      {
       "metadata": {},
       "output_type": "pyout",
       "prompt_number": 7,
       "text": [
        "Survived        \n",
        "0         male      468\n",
        "          female     81\n",
        "1         female    233\n",
        "          male      109\n",
        "dtype: int64"
       ]
      }
     ],
     "prompt_number": 7
    },
    {
     "cell_type": "code",
     "collapsed": false,
     "input": [
      "# 5:  Pandas thinks the \"Class\" col is a number, but it should actually be a string.  So, covert the \"Class\" col to a string.\n",
      "df.Class = df.Class.astype(str)"
     ],
     "language": "python",
     "metadata": {},
     "outputs": [],
     "prompt_number": 26
    },
    {
     "cell_type": "code",
     "collapsed": false,
     "input": [],
     "language": "python",
     "metadata": {},
     "outputs": []
    }
   ],
   "metadata": {}
  }
 ]
}