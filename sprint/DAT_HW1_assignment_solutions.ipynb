{
 "metadata": {
  "name": "",
  "signature": "sha256:b5918dfc89ab95914cd6344e9a5f6a2ad7baf31d2ead5556d4346921118d6b3b"
 },
 "nbformat": 3,
 "nbformat_minor": 0,
 "worksheets": [
  {
   "cells": [
    {
     "cell_type": "markdown",
     "metadata": {},
     "source": [
      "#\u2000HOMEWORK QUESTIONS\n",
      "### Please answer the following questions about your data exploration in the iPython notebook. Feel free to explore further.\n",
      "\n",
      "#### For descriptions of the data types https://www.kaggle.com/c/titanic-gettingStarted/data\n",
      "\n",
      "1. How many passengers are in our passenger list? From here forward, we\u2019ll assume our dataset represents the full passenger list for the Titanic.\n",
      "\n",
      "2. What is the overall survival rate?\n",
      "3. How many male passengers were onboard?\n",
      "4. How many female passengers were onboard?\n",
      "5. What is the overall survival rate of male passengers?\n",
      "6. What is the overall survival rate of female passengers?\n",
      "7. What is the average age of all passengers onboard?\n",
      "    * How did you calculate this average age?\n",
      "    * Did you encounter any problems with this calculation?\n",
      "    * If so, how did you address any problems?\n",
      "8. What is the average age of passengers who survived?\n",
      "9. What is the average age of passengers who did not survive?\n",
      "10. At this (early) point in our analysis, what might you infer about any patterns you are seeing?\n",
      "11. How many passengers are in each of the three classes of service (e.g. First, Second, Third?)\n",
      "12. What is the survival rate for passengers in each of the three classes of service?\n",
      "13. Continuing with 10, what else might you conclude?\n",
      "14. Last, if we were to build a predictive model, which features in the data do you think we should include in the model and which can we leave out? Why?"
     ]
    },
    {
     "cell_type": "code",
     "collapsed": false,
     "input": [
      "# 1: How many passengers are in our passenger list? From here forward, we\u2019ll assume our dataset represents the full passenger list for the Titanic.\n",
      "import pandas as pd\n",
      "\n",
      "df = pd.read_csv('sprint-data/train.csv')\n",
      "answer_one = df['Name'].count() \n",
      "print answer_one"
     ],
     "language": "python",
     "metadata": {},
     "outputs": [
      {
       "output_type": "stream",
       "stream": "stdout",
       "text": [
        "891\n"
       ]
      }
     ],
     "prompt_number": 74
    },
    {
     "cell_type": "code",
     "collapsed": false,
     "input": [
      "# 2: What is the overall survival rate?\n",
      "\n",
      "df = pd.read_csv('sprint-data/train.csv')\n",
      "totalz = df['Survived'].count()\n",
      "counts = df['Survived'].value_counts()\n",
      "totalz = float(totalz)\n",
      "survived = counts[1]\n",
      "survived = float(survived)\n",
      "answer_two = survived / totalz\n",
      "print answer_two"
     ],
     "language": "python",
     "metadata": {},
     "outputs": [
      {
       "output_type": "stream",
       "stream": "stdout",
       "text": [
        "0.383838383838\n"
       ]
      }
     ],
     "prompt_number": 72
    },
    {
     "cell_type": "code",
     "collapsed": false,
     "input": [
      "# 3: How many male passengers were onboard?\n",
      "# 4: How many female passengers were onboard?\n",
      "\n",
      "sex_counts = df['Sex'].value_counts().astype(float)\n",
      "total_males = sex_counts['male']\n",
      "total_females = sex_counts['female']\n",
      "print total_males, total_females"
     ],
     "language": "python",
     "metadata": {},
     "outputs": [
      {
       "output_type": "stream",
       "stream": "stdout",
       "text": [
        "577.0 314.0\n"
       ]
      }
     ],
     "prompt_number": 73
    },
    {
     "cell_type": "code",
     "collapsed": false,
     "input": [
      "# 5: What is the overall survival rate of male passengers?\n",
      "# 6: What is the overall survival rate of female passengers?\n",
      "grouped = df.groupby('Survived')['Sex'].value_counts().astype(float)\n",
      "\n",
      "male_deaths = grouped[0]['male']\n",
      "female_deaths = grouped[0]['female']\n",
      "\n",
      "male_survived = grouped[1]['male']\n",
      "female_survived = grouped[1]['female']\n",
      "\n",
      "answer_five = male_survived / total_males\n",
      "answer_six = female_survived / total_females\n",
      "print answer_five, answer_six"
     ],
     "language": "python",
     "metadata": {},
     "outputs": [
      {
       "output_type": "stream",
       "stream": "stdout",
       "text": [
        "0.188908145581 0.742038216561\n"
       ]
      }
     ],
     "prompt_number": 70
    },
    {
     "cell_type": "code",
     "collapsed": false,
     "input": [
      "# 7:  What is the average age of all passengers onboard?\n",
      "#     7a: How did you calculate this average age?\n",
      "#     7b: Did you encounter any problems with this calculation?\n",
      "#     7c: If so, how did you address any problems?"
     ],
     "language": "python",
     "metadata": {},
     "outputs": [],
     "prompt_number": 26
    },
    {
     "cell_type": "code",
     "collapsed": false,
     "input": [
      "answer_seven_a = df['Age'].mean()\n",
      "answer_seven_b = \"Nope\"\n",
      "answer_seven_c = \"Could get median instead\"\n",
      "print answer_seven_a"
     ],
     "language": "python",
     "metadata": {},
     "outputs": [
      {
       "output_type": "stream",
       "stream": "stdout",
       "text": [
        "29.6991176471\n"
       ]
      }
     ],
     "prompt_number": 71
    },
    {
     "cell_type": "code",
     "collapsed": false,
     "input": [
      "# 8: What is the average age of passengers who survived?\n",
      "# 9: What is the average age of passengers who did not survive?\n",
      "answer_eight_and_nine = df.groupby('Survived')['Age'].mean()\n",
      "print answer_eight_and_nine"
     ],
     "language": "python",
     "metadata": {},
     "outputs": [
      {
       "output_type": "stream",
       "stream": "stdout",
       "text": [
        "Survived\n",
        "0           30.626179\n",
        "1           28.343690\n",
        "Name: Age, dtype: float64\n"
       ]
      }
     ],
     "prompt_number": 69
    },
    {
     "cell_type": "code",
     "collapsed": false,
     "input": [
      "# 10:  At this (early) point in our analysis, what might you infer about any patterns you are seeing?\n",
      "answer_ten = \"Earlier we saw that way more females survived than males, but age doesn't seem to be a HUGE factor, at least not as much as Sex.\"\n"
     ],
     "language": "python",
     "metadata": {},
     "outputs": [],
     "prompt_number": 79
    },
    {
     "cell_type": "code",
     "collapsed": false,
     "input": [
      "# 11z:  I JUST WANT TO DO THIS TO RENAME THE SURVIVED COLUMN TO SAY Lived Died INSETEAD OF 0,1\n",
      "df['LD'] = np.where(df['Survived'] == 0, \"Died\", \"Lived\")\n",
      "\n",
      "\n",
      "# 11:  How many passengers are in each of the three classes of service (e.g. First, Second, Third?)\n",
      "answer_eleven = df.groupby('Pclass')['LD'].value_counts()\n",
      "print answer_eleven"
     ],
     "language": "python",
     "metadata": {},
     "outputs": [
      {
       "output_type": "stream",
       "stream": "stdout",
       "text": [
        "Pclass       \n",
        "1       Lived    136\n",
        "        Died      80\n",
        "2       Died      97\n",
        "        Lived     87\n",
        "3       Died     372\n",
        "        Lived    119\n",
        "dtype: int64\n"
       ]
      }
     ],
     "prompt_number": 86
    },
    {
     "cell_type": "code",
     "collapsed": false,
     "input": [
      "# 12:  What is the survival rate for passengers in each of the three classes of service?\n",
      "\n",
      "lived = df.groupby(\"Pclass\")[\"Survived\"].sum()\n",
      "totalz = df.groupby(\"Pclass\")[\"Survived\"].count()\n",
      "rate_per_class = lived / totalz\n",
      "answer_twelve = rate_per_class\n",
      "print answer_twelve\n",
      "\n",
      "### EXPLAIN THE AWESOME-NESS OF BOOLEAN VALUES INSTEAD OF STRING VALUES"
     ],
     "language": "python",
     "metadata": {},
     "outputs": [
      {
       "output_type": "stream",
       "stream": "stdout",
       "text": [
        "Pclass\n",
        "1         0.629630\n",
        "2         0.472826\n",
        "3         0.242363\n",
        "dtype: float64\n"
       ]
      }
     ],
     "prompt_number": 178
    },
    {
     "cell_type": "code",
     "collapsed": false,
     "input": [
      "# THIS IS A SHITTER WAY OF DOING QUESTION # 12 \n",
      "#\n",
      "\n",
      "# 12:  What is the survival rate for passengers in each of the three classes of service?\n",
      "# pclass_counts = df.groupby('Pclass')['Survived'].count().astype(float)\n",
      "# pclass_one_count = pclass_counts[1]\n",
      "# pclass_two_count = pclass_counts[2]\n",
      "# pclass_three_count = pclass_counts[3]\n",
      "\n",
      "# pclass_survivals = df.groupby('Pclass')['LD'].value_counts().astype(float)\n",
      "# pclass_one_survivals = pclass_survivals[1]['Lived']\n",
      "# pclass_one_survivals / pclass_one_count\n",
      "\n",
      "# print pclass_one_count, pclass_one_survivals"
     ],
     "language": "python",
     "metadata": {},
     "outputs": [],
     "prompt_number": 181
    },
    {
     "cell_type": "code",
     "collapsed": false,
     "input": [],
     "language": "python",
     "metadata": {},
     "outputs": []
    }
   ],
   "metadata": {}
  }
 ]
}